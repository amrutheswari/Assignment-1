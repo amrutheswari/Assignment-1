{
  "nbformat": 4,
  "nbformat_minor": 0,
  "metadata": {
    "colab": {
      "name": "ammu.ipynb",
      "provenance": [],
      "collapsed_sections": [],
      "authorship_tag": "ABX9TyNNveJXQnYeSXWUttrA8rgc",
      "include_colab_link": true
    },
    "kernelspec": {
      "name": "python3",
      "display_name": "Python 3"
    }
  },
  "cells": [
    {
      "cell_type": "markdown",
      "metadata": {
        "id": "view-in-github",
        "colab_type": "text"
      },
      "source": [
        "<a href=\"https://colab.research.google.com/github/amrutheswari/Assignment-1/blob/master/ammu.ipynb\" target=\"_parent\"><img src=\"https://colab.research.google.com/assets/colab-badge.svg\" alt=\"Open In Colab\"/></a>"
      ]
    },
    {
      "cell_type": "code",
      "metadata": {
        "id": "6R2Gjw1Gxm5-",
        "colab_type": "code",
        "colab": {
          "base_uri": "https://localhost:8080/",
          "height": 101
        },
        "outputId": "0b49ef7a-9c89-4103-f27b-f0cc97c96a2a"
      },
      "source": [
        "#simple calculator\n",
        "def add(num1,num2):\n",
        "  return num1+num2\n",
        "def subtract(num1,num2):\n",
        "  return num1-num2\n",
        "def multiply(num1,num2):\n",
        "   return num1*num2\n",
        "def divide (num1,num2):\n",
        "    return num1/num2\n",
        "print(\"select operation\")\n",
        "print(\"1.add\")\n",
        "print(\"2.subtract\")\n",
        "print(\"3.multiple\") \n",
        "print(\"4.divide\") \n",
        "choice=int(input(\"select operations form 1,2,3,4:\"))\n",
        "num1=int(input(\"enter first number: \")) \n",
        "num2=int(input(\"enter second number: \"))\n",
        "if choice==1:\n",
        "        print(num1, \"+\", num2,\"=\",add(num1,num2)) \n",
        "elif choice==2:\n",
        "        print(num1,\"-\",num2,\"=\",sub(num1,num2))\n",
        "elif choice==3:\n",
        "        print(num1,\"*\",num2,\"=\",mul(num1,num2))\n",
        "elif choice==4:\n",
        "        print(num1,\"/\",num2,\"=\",div(num1,num2))\n",
        "else:\n",
        "        print(\"invalid input\")      "
      ],
      "execution_count": null,
      "outputs": [
        {
          "output_type": "stream",
          "text": [
            "select operation\n",
            "1.add\n",
            "2.subtract\n",
            "3.multiple\n",
            "4.divide\n"
          ],
          "name": "stdout"
        }
      ]
    },
    {
      "cell_type": "code",
      "metadata": {
        "id": "UfdVHbLLTa_1",
        "colab_type": "code",
        "colab": {}
      },
      "source": [
        "#simple interest\n",
        "def simple_interest(p,t,r):\n",
        "    print('the principle is',p)\n",
        "    print('the time period is',t)\n",
        "    print('the rate of interest is',r)\n",
        "    si=(p*t*r)/100\n",
        "    print('the simple interest is',si)\n",
        "    return si\n",
        "simple_interest(9,7,10)    "
      ],
      "execution_count": null,
      "outputs": []
    },
    {
      "cell_type": "code",
      "metadata": {
        "id": "xFQvEyvvV6_q",
        "colab_type": "code",
        "colab": {}
      },
      "source": [
        "#area of circle\n",
        "PI=3.142\n",
        "r=float(input(\"enter the radius of circle:\"))\n",
        "area=PI*(r*r);\n",
        "print(\"%2f\" %area)"
      ],
      "execution_count": null,
      "outputs": []
    },
    {
      "cell_type": "code",
      "metadata": {
        "id": "waucbJp4Xm-v",
        "colab_type": "code",
        "colab": {}
      },
      "source": [
        "#area of  triangle\n",
        "a=float(input('enter first side'))\n",
        "b=float(input('enter second side'))\n",
        "c=float(input('enter third side'))\n",
        "s=(a+b+c)/2\n",
        "area=(s*(s-a)*(s-b)*(s-c))**0.5\n",
        "print('the area of the triangle is %0.2f'%area)"
      ],
      "execution_count": null,
      "outputs": []
    },
    {
      "cell_type": "code",
      "metadata": {
        "id": "0AAhp1Q2Y2mH",
        "colab_type": "code",
        "colab": {}
      },
      "source": [
        "#celsius to fahrenheit\n",
        "celsius=float(input(\"enter the temperature in celsius: \"))\n",
        "fahrenheit=(celsius*9/5)+32\n",
        "print('%2f celsius is: %0.2f fahrenheit'%(celsius,fahrenheit))"
      ],
      "execution_count": null,
      "outputs": []
    },
    {
      "cell_type": "code",
      "metadata": {
        "id": "OXWcj9igZ6bl",
        "colab_type": "code",
        "colab": {}
      },
      "source": [
        "#area of rectangle\n",
        "width=float(input('enter width of a rectangle: '))\n",
        "height=float(input('enter the height of a rectangle: '))\n",
        "area=width*height\n",
        "print(\"area of rectangle is:%2f\"%area)"
      ],
      "execution_count": null,
      "outputs": []
    },
    {
      "cell_type": "code",
      "metadata": {
        "id": "k_iRvkNmbWbj",
        "colab_type": "code",
        "colab": {}
      },
      "source": [
        "#perimeter of a square\n",
        "s=int(input(\"side: \"))\n",
        "area=s*s\n",
        "perimeter=4*s\n",
        "print(\"area of square : \",area)\n",
        "print(\"perimeter of square: \",perimeter)"
      ],
      "execution_count": null,
      "outputs": []
    },
    {
      "cell_type": "code",
      "metadata": {
        "id": "AlARqNHSctMF",
        "colab_type": "code",
        "colab": {}
      },
      "source": [
        "#circumferences of a circle\n",
        "import math\n",
        "radius=float(input(\"enter the radius of the circle: \"))\n",
        "circumference=2*math.pi*radius\n",
        "print(\"circumference of the circle is :%.2f\" % circumference)"
      ],
      "execution_count": null,
      "outputs": []
    },
    {
      "cell_type": "code",
      "metadata": {
        "id": "hpQldxDjOpka",
        "colab_type": "code",
        "colab": {}
      },
      "source": [
        "#swapping of two numbers\n",
        "num1=input('enter first number')\n",
        "num2=input('enter second number')\n",
        "print(\"value of num1 before swapping:\",num1)\n",
        "print(\"value of num2 before swapping:\",num2)\n",
        "temp=num1\n",
        "num1=num2\n",
        "num2=temp\n",
        "print(\"value of num1 after swapping:\",num1)\n",
        "print(\"value of num2 after swapping :\",num2)"
      ],
      "execution_count": null,
      "outputs": []
    }
  ]
}